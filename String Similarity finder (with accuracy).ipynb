{
 "cells": [
  {
   "cell_type": "code",
   "execution_count": 3,
   "metadata": {},
   "outputs": [
    {
     "name": "stdout",
     "output_type": "stream",
     "text": [
      "31709\n",
      "31709\n"
     ]
    }
   ],
   "source": [
    "import pandas as pd\n",
    "import textdistance\n",
    "from pyphonetics import Soundex\n",
    "from difflib import SequenceMatcher\n",
    "from fuzzywuzzy import fuzz\n",
    "def similar(a, b): # algorithm used\n",
    "    return SequenceMatcher(None, a, b).ratio()\n",
    "#soundex = Soundex()\n",
    "data=pd.read_csv('InputMapping.csv')\n",
    "data.dropna() # to remove nay unwanted data or gaps fom dataset\n",
    "# adding all data in the form of list to compare the strings\n",
    "datahotel=data['InputHotelName']\n",
    "dataaddress=data['InputAddress']\n",
    "datacity=data['InputCity']\n",
    "datacountry=data['InputCountry']\n",
    "samplehotel=data['BookingHotelName']\n",
    "sampleaddress=data['BookingAddress']\n",
    "samplecity=data['BookingCity']\n",
    "samplecountry=data['BookingCountry']\n",
    "\n",
    "list_hotel=datahotel.values.tolist()\n",
    "list_address=dataaddress.values.tolist()\n",
    "list_city=datacity.values.tolist()\n",
    "list_country=datacountry.values.tolist()\n",
    "list_samplehotel=samplehotel.values.tolist()\n",
    "list_sampleaddress=sampleaddress.values.tolist()\n",
    "list_samplecity=samplecity.values.tolist()\n",
    "list_samplecountry=samplecountry.values.tolist()\n",
    "\n",
    "print(len(list_hotel)) # find if all data is considered or not\n",
    "print(len(list_samplehotel)) # find if all data is considered or not"
   ]
  },
  {
   "cell_type": "code",
   "execution_count": 4,
   "metadata": {},
   "outputs": [
    {
     "name": "stdout",
     "output_type": "stream",
     "text": [
      "Holiday Inn Miami International Airport  || Holiday Inn Miami International Airport Hotel  || 100.0\n",
      "\n",
      "\n"
     ]
    }
   ],
   "source": [
    "# Conditions like >90 and 80 and all can aslo be used have kept 35 for exxample\n",
    "for i in range(35):\n",
    "    if list_country[i]=='United States': # can add any name which synonyms might be present in the data\n",
    "        list_country[i]=='United States of America'\n",
    "    stopwords=['hotel','spa','boutique','park','the','&','suites','resort','homes','and'] # some freqeuntly used words whose presence should affect the data accuracy\n",
    "    \n",
    "    lst=list_hotel[i].split() # to find differance in each string\n",
    "    \n",
    "    for word in list(lst):  # iterating on a copy since removing will mess things up\n",
    "        if word.lower() in stopwords:\n",
    "            lst.remove(word)\n",
    "    lst[:]=[\" \".join(lst).lower()]        \n",
    "    lst_sample=list_samplehotel[i].split()   \n",
    "    for word in list(lst_sample):  # iterating on a copy since removing will mess things up\n",
    "        if word.lower() in stopwords:\n",
    "            lst_sample.remove(word)\n",
    "    lst_sample[:]=[\" \".join(lst_sample).lower()]  # to avoid decrease in accuracy due to small or cap letters      \n",
    "    perName1=similar(list_samplehotel[i].lower(),list_hotel[i].lower())\n",
    "    perName=similar(lst_sample,lst)\n",
    "print(list_samplehotel[i],\" ||\",list_hotel[i],\" ||\",max(round(perName*100,2),round(perName1*100,2))) # can print inside loop for just one example have taken it outside the loop\n",
    "print('\\n')   # have considered printing only the last required names the indent can be made accordingly "
   ]
  },
  {
   "cell_type": "code",
   "execution_count": null,
   "metadata": {},
   "outputs": [],
   "source": [
    "# For copying the data into excell sheet\n",
    "\n",
    "import xlsxwriter\n",
    "\n",
    "workbook = xlsxwriter.Workbook('Updated_Booking_First_35.xlsx')\n",
    "worksheet = workbook.add_worksheet()\n",
    "worksheet.write('A1', 'Destination Hotel Name')\n",
    "worksheet.write('B1', 'Destination City')\n",
    "worksheet.write('C1', 'Destination Country')\n",
    "worksheet.write('D1', 'Destination Address')\n",
    "worksheet.write('E1', 'Source Name') \n",
    "worksheet.write('F1', 'Source City')\n",
    "worksheet.write('G1', 'Source Country')\n",
    "worksheet.write('H1', 'Source Address')\n",
    "worksheet.write('I1', 'NameAcc')\n",
    "worksheet.write('J1', 'AddressAcc')\n",
    "worksheet.write('K1', 'ElasticNameAcc')\n",
    "worksheet.write('L1', 'ElasticAddressAcc')\n",
    "\n",
    "row=1\n",
    "\n",
    "for i in range(35):\n",
    "    if list_country[i]=='United States':\n",
    "        list_country[i]=='United States of America'\n",
    "    stopwords=['hotel','spa','boutique','park','the','&','suites','resort','homes','and']\n",
    "    \n",
    "    \n",
    "    lst=list_hotel[i].split()\n",
    "    \n",
    "    for word in list(lst):  # iterating on a copy since removing will mess things up\n",
    "        if word.lower() in stopwords:\n",
    "            lst.remove(word)\n",
    "    lst[:]=[\" \".join(lst).lower()]        \n",
    "    lst_sample=list_samplehotel[i].split()   \n",
    "    for word in list(lst_sample):  # iterating on a copy since removing will mess things up\n",
    "        if word.lower() in stopwords:\n",
    "            lst_sample.remove(word)\n",
    "    lst_sample[:]=[\" \".join(lst_sample).lower()]        \n",
    "    perName1=similar(list_samplehotel[i].lower(),list_hotel[i].lower())\n",
    "    perName=similar(lst_sample,lst)\n",
    "    perAdd=similar(list_sampleaddress[i].lower(),list_address[i].lower())\n",
    "    column=0\n",
    "    lst=[]\n",
    "    lst.append(list_samplehotel[i])\n",
    "    lst.append(list_samplecity[i])\n",
    "    lst.append(list_samplecountry[i])\n",
    "    lst.append(list_sampleaddress[i])\n",
    "    lst.append(list_hotel[i])\n",
    "    lst.append(list_city[i])\n",
    "    lst.append(list_country[i])\n",
    "    lst.append(list_address[i])\n",
    "    lst.append(max(round(perName*100,2),round(perName1*100,2)))\n",
    "    lst.append(round(perAdd*100,2))\n",
    "    lst.append(list_elasticnameacc[i])\n",
    "    lst.append(list_elasticaddacc[i])\n",
    "    print(lst)\n",
    "    print('\\n')\n",
    "    for items in lst:\n",
    "        worksheet.write(row, column, items)\n",
    "    \n",
    "        column += 1\n",
    "    row +=1\n",
    "workbook.close()"
   ]
  }
 ],
 "metadata": {
  "kernelspec": {
   "display_name": "Python 3",
   "language": "python",
   "name": "python3"
  },
  "language_info": {
   "codemirror_mode": {
    "name": "ipython",
    "version": 3
   },
   "file_extension": ".py",
   "mimetype": "text/x-python",
   "name": "python",
   "nbconvert_exporter": "python",
   "pygments_lexer": "ipython3",
   "version": "3.7.6"
  }
 },
 "nbformat": 4,
 "nbformat_minor": 4
}
